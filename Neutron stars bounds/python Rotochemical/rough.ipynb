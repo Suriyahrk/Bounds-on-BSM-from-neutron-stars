{
 "cells": [
  {
   "cell_type": "code",
   "execution_count": 1,
   "metadata": {},
   "outputs": [],
   "source": [
    "import matplotlib.pyplot as plt\n",
    "import numpy as np\n",
    "import seaborn as sns\n",
    "import sys\n",
    "sns.set_style('darkgrid')\n",
    "%matplotlib qt"
   ]
  },
  {
   "cell_type": "code",
   "execution_count": null,
   "metadata": {},
   "outputs": [],
   "source": [
    "\"\"\"\n",
    "plt.figure()\n",
    "plt.semilogy(mun_nd[0], mun_nd[1], '.')\n",
    "plt.semilogy(mup_nd[0], mup_nd[1], '.')\n",
    "plt.semilogy(mun[0], mun[1], '.')\n",
    "plt.semilogy(mup[0], mup[1], '.')\n",
    "\n",
    "plt.plot(E_N0, P_N0)\n",
    "plt.plot(E_P0, P_P0)\n",
    "plt.plot(E_P1, P_P1)\n",
    "\n",
    "# maximum / minimum allowed transfer of momentum in the sampled range of momentums\n",
    "min_allowed_p_com = min(allowed_p_com)\n",
    "max_allowed_p_com = max(allowed_p_com)\n",
    "\n",
    "# Min/max energies at a given radius\n",
    "mm_energy = np.zeros((len(r_n), 2))\n",
    "\n",
    "for i in range(len(r_n)):\n",
    "    mm_energy[i] = np.array([ (min_allowed_p_com * pf_n[i])**2 / (2 * mass_of_neutron * 10**(-3)), (max_allowed_p_com * pf_n[i])**2 / (2 * mass_of_neutron * 10**(-3))])\n",
    "\n",
    "# We are trying to find the maximum and minimum value of energy allowed at any radius so we can sample only those required points for phase shifts\n",
    "print(min(np.transpose(mm_energy)[0]), max(np.transpose(mm_energy)[1]), \"in geV\") \n",
    "\n",
    "\n",
    "\"\"\"\n",
    "\n"
   ]
  },
  {
   "cell_type": "code",
   "execution_count": 1,
   "metadata": {},
   "outputs": [
    {
     "data": {
      "text/plain": [
       "'  # Defining the generalized r for all the data points so, we dont encounter 0 value\\nr_min = max([r_n[0], r_p[0], r_nm_n[0], r_nm_p[0]])\\nr_max = min([r_n[-1], r_p[-1], r_nm_n[-1], r_nm_p[-1]])\\n\\nr = np.linspace(r_min, r_max, 100)\\nr_plot = np.linspace(r_min, r_max, 100) / ( 1000 / (1.9733 * 10**(-16))) # Going back to kms'"
      ]
     },
     "execution_count": 1,
     "metadata": {},
     "output_type": "execute_result"
    }
   ],
   "source": [
    "\"\"\"  # Defining the generalized r for all the data points so, we dont encounter 0 value\n",
    "r_min = max([r_n[0], r_p[0], r_nm_n[0], r_nm_p[0]])\n",
    "r_max = min([r_n[-1], r_p[-1], r_nm_n[-1], r_nm_p[-1]])\n",
    "\n",
    "r = np.linspace(r_min, r_max, 100)\n",
    "r_plot = np.linspace(r_min, r_max, 100) / ( 1000 / (1.9733 * 10**(-16))) # Going back to kilo meters\n",
    "\n",
    "# plt.semilogy(mun_nd[0], mun_nd[1])\n",
    "\n",
    "plt.semilogy(r_n, func_mun(r_n)* 10**3)\n",
    "plt.semilogy(r_n, func_mup(r_n)* 10**3)\n",
    "plt.semilogy(r_n, (func_pf_n(r_n) ** 2 / (2 * mass_of_neutron )) * 10 ** 3)\n",
    "plt.semilogy(r_n, (func_pf_p(r_n) ** 2 / (2 * mass_of_neutron )) * 10 ** 3)\n",
    "\n",
    "\"\"\""
   ]
  },
  {
   "cell_type": "code",
   "execution_count": null,
   "metadata": {},
   "outputs": [],
   "source": [
    "\"\"\"  general_E = np.linspace(0.005, 0.34, 100)\n",
    "\n",
    "plt.plot(general_E, func_N0(general_E))\n",
    "plt.plot(general_E, func_P0(general_E))\n",
    "plt.plot(general_E, func_P1(general_E))\"\"\""
   ]
  },
  {
   "cell_type": "code",
   "execution_count": null,
   "metadata": {},
   "outputs": [],
   "source": [
    "\"\"\"  # 0 to 8 km\n",
    "\n",
    "R = np.linspace(0, 8, 100) * 1000 / (1.9733 * 10**(-16)) # (in GeV^-1)\n",
    "result = Energy_rate(R, 1)\n",
    "\n",
    "plt.plot(R / (1000 / (1.9733 * 10**(-16))), 3* result[0])\n",
    "plt.plot(R/ (1000 / (1.9733 * 10**(-16))), result[1])\n",
    "plt.show()\n",
    "\n",
    "plt.plot(R/ (1000 / (1.9733 * 10**(-16))), result[2])\n",
    "\n",
    "\"\"\""
   ]
  },
  {
   "cell_type": "code",
   "execution_count": null,
   "metadata": {},
   "outputs": [],
   "source": [
    "\"\"\" \n",
    "plt.plot(r_DE / ( 1000 / (1.9733 * 10**(-16))), DeltaE)\n",
    "r_plot = np.linspace(0.05, 11.9, 1000) * 1000 / (1.9733 * 10**(-16))\n",
    "plt.plot(r_plot / ( 1000 / (1.9733 * 10**(-16))), func_pf_n(r_plot), '.')\n",
    "plt.plot(r_plot / ( 1000 / (1.9733 * 10**(-16))), func_DeltaE(r_plot), '.')\"\"\""
   ]
  }
 ],
 "metadata": {
  "kernelspec": {
   "display_name": "Python 3",
   "language": "python",
   "name": "python3"
  },
  "language_info": {
   "codemirror_mode": {
    "name": "ipython",
    "version": 3
   },
   "file_extension": ".py",
   "mimetype": "text/x-python",
   "name": "python",
   "nbconvert_exporter": "python",
   "pygments_lexer": "ipython3",
   "version": "3.10.4"
  }
 },
 "nbformat": 4,
 "nbformat_minor": 2
}

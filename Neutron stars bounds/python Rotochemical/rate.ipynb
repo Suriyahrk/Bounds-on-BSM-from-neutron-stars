{
 "cells": [
  {
   "cell_type": "code",
   "execution_count": null,
   "metadata": {},
   "outputs": [],
   "source": [
    "import numpy as np\n",
    "import matplotlib.pyplot as plt\n",
    "import scipy\n",
    "import seaborn as sns\n",
    "import sys\n",
    "sns.set_style('darkgrid')\n",
    "%matplotlib qt"
   ]
  },
  {
   "cell_type": "code",
   "execution_count": null,
   "metadata": {},
   "outputs": [],
   "source": [
    "\"\"\"\n",
    "Computing the velovity averaged crossection with pauli blocking taken into account\n",
    "\n",
    "# We will consider the collision of two identical particles (nn -> nn) in COM of frame\n",
    "# Assume the fermi momentum is normalized to p_f = 1\n",
    "# Generating random momentum from the interval (0, 1) with pdf f(p) = 3p^2 (momentum near the fermi surface are more prefered). This can be reframed as\n",
    "p^3 having uniform distribution\n",
    "\n",
    "\"\"\""
   ]
  },
  {
   "cell_type": "code",
   "execution_count": null,
   "metadata": {},
   "outputs": [],
   "source": [
    "no_of_events = 10**5\n",
    "\n",
    "# Random distribution for the initial and final momentum\n",
    "p1 = ( np.random.uniform(0, 1, no_of_events) ) ** (1/3)\n",
    "p2 = ( np.random.uniform(0, 1, no_of_events) ) ** (1/3)\n",
    "\n",
    "# Random distribution for cosine of two arbitrary angles during the collision\n",
    "\n",
    "calpha = np.random.uniform(-1, 1, no_of_events)   # angle between p1 and p2 in lab frame\n",
    "ctheta = np.random.uniform(-1, 1, no_of_events)   # angle between p3 and p1 + p2 in com frame\n",
    "\n",
    "pf_n = []  # final momentum of neutron\n",
    "pf_nd = [] # final momentum of n'\n",
    "p_com = [] # magnitude of momentum transfer\n",
    "\n",
    "for i in range(no_of_events):\n",
    "    pf_n.append( (p1[i]**2 + p2[i]**2 + np.sqrt( (p1[i]**2 + p2[i]**2)**2  - 4*(p1[i]*p2[i]*calpha[i])**2 )*ctheta[i])**(1/2) / np.sqrt(2) )\n",
    "    pf_nd.append( (p1[i]**2 + p2[i]**2 - np.sqrt( (p1[i]**2 + p2[i]**2)**2  - 4*(p1[i]*p2[i]*calpha[i])**2 )*ctheta[i])**(1/2) / np.sqrt(2) )\n",
    "    p_com.append( np.sqrt(p1[i]**2 + p2[i]**2 - 2 * p1[i] * p2[i] * calpha[i]) )\n",
    "\n",
    "# Now, we perform the sampling only over the states where the final momentum of the neutron is higher than the fermi momentum\n",
    "\n",
    "allowed_pf_n = []\n",
    "allowed_pf_nd = []\n",
    "allowed_p_com = []\n",
    "\n",
    "for i in range(no_of_events):\n",
    "    if pf_n[i] >= 1 :\n",
    "        allowed_pf_n.append(pf_n[i])\n",
    "        allowed_pf_nd.append(pf_nd[i])\n",
    "        allowed_p_com.append(p_com[i])\n"
   ]
  },
  {
   "cell_type": "code",
   "execution_count": null,
   "metadata": {},
   "outputs": [],
   "source": [
    "# Sampling for the neutron and proton collision\n",
    "\n",
    "p2_p = np.sqrt(0.29) * ( np.random.uniform(0, 1, no_of_events) ) ** (1/3)\n",
    "\n",
    "pf_p = []\n",
    "pf_pnd = []\n",
    "p_pcom = []\n",
    "\n",
    "for i in range(no_of_events):\n",
    "    pf_p.append( (p1[i]**2 + p2_p[i]**2 + np.sqrt( (p1[i]**2 + p2_p[i]**2)**2  - 4*(p1[i]*p2_p[i]*calpha[i])**2 )*ctheta[i])**(1/2) / np.sqrt(2) ) # final momentum of proton\n",
    "    pf_pnd.append( (p1[i]**2 + p2_p[i]**2 - np.sqrt( (p1[i]**2 + p2_p[i]**2)**2  - 4*(p1[i]*p2_p[i]*calpha[i])**2 )*ctheta[i])**(1/2) / np.sqrt(2) ) # final momentum of n'\n",
    "    p_pcom.append( np.sqrt(p1[i]**2 + p2_p[i]**2 - 2 * p1[i] * p2_p[i] * calpha[i]) ) # Momentum transfers\n",
    "\n",
    "allowed_pf_p = []\n",
    "allowed_pf_pnd = []\n",
    "allowed_p_pcom = []\n",
    "\n",
    "\n",
    "# Allowed events with final momentum of proton above the fermi surface\n",
    "for i in range(no_of_events):\n",
    "    if pf_p[i] >= np.sqrt(0.29) :\n",
    "        allowed_pf_p.append(pf_p[i])\n",
    "        allowed_pf_pnd.append(pf_pnd[i])\n",
    "        allowed_p_pcom.append(p_pcom[i])"
   ]
  },
  {
   "cell_type": "code",
   "execution_count": null,
   "metadata": {},
   "outputs": [],
   "source": [
    "\"\"\"  We will be using natural units hbar = c = 1 and the GeV is our only unit of measure\"\"\""
   ]
  },
  {
   "cell_type": "code",
   "execution_count": null,
   "metadata": {},
   "outputs": [],
   "source": [
    "import pandas as pd\n",
    "import os\n",
    "\n",
    "mun_nd_path = os.path.join('data','mun_from_nd.csv')\n",
    "mun_nd = np.transpose(np.array(pd.read_csv(mun_nd_path, delimiter=',', header=None)))\n",
    "\n",
    "mup_nd_path = os.path.join('data','mup_from_nd.csv')\n",
    "mup_nd = np.transpose(np.array(pd.read_csv(mup_nd_path, delimiter=',', header=None)))\n",
    "\n",
    "mun_path = os.path.join('data','mun.csv')\n",
    "mun = np.transpose(np.array(pd.read_csv(mun_path, delimiter=',', header=None)))\n",
    "\n",
    "mup_path = os.path.join('data','mup.csv')\n",
    "mup = np.transpose(np.array(pd.read_csv(mup_path, delimiter=',', header=None)))\n",
    "\n",
    "# Converting from mu_n vs r to p_f vs r (The data is available in units MeV vs km))\n",
    "mass_of_neutron =  0.94 # (in GeV)"
   ]
  },
  {
   "cell_type": "code",
   "execution_count": null,
   "metadata": {},
   "outputs": [],
   "source": [
    "# Defining the fermi momentum as a function of radius for neutrons\n",
    "\n",
    "r_n = mun_nd[0] * 1000 / (1.9733 * 10**(-16)) # (in GeV^-1)\n",
    "pf_n = np.sqrt(2 * 940.6 * mun_nd[1]) * 10**(-3)  # (in GeV)\n",
    "\n",
    "func_pf_n = scipy.interpolate.interp1d(r_n, pf_n, kind='cubic', fill_value=0, bounds_error=False)\n",
    "\n",
    "# Defining the fermi momentum as a function of radius for protons\n",
    "\n",
    "r_p = mup_nd[0] * 1000 / (1.9733 * 10**(-16)) # (in GeV^-1)\n",
    "pf_p = np.sqrt(2 * 940.6 * mup_nd[1]) * 10**(-3)  # (in GeV)\n",
    "\n",
    "func_pf_p = scipy.interpolate.interp1d(r_p, pf_p, kind='cubic', fill_value=0, bounds_error=False)\n",
    "\n",
    "# Defining the fermi energy accouting nuclear interaction for neutrons and protons\n",
    "\n",
    "r_nm_n = mun[0] * 1000 / (1.9733 * 10**(-16)) # (in GeV^-1)\n",
    "mun_nm = mun[1] * 10**(-3) # (in GeV)\n",
    "\n",
    "func_mun = scipy.interpolate.interp1d(r_nm_n, mun_nm, kind='cubic', fill_value=0, bounds_error=False)\n",
    "\n",
    "r_nm_p = mup[0] * 1000 / (1.9733 * 10**(-16)) # (in GeV^-1)\n",
    "mup_nm = mup[1] * 10**(-3) # (in GeV)\n",
    "\n",
    "func_mup = scipy.interpolate.interp1d(r_nm_p, mup_nm, kind='cubic', fill_value=0, bounds_error=False)"
   ]
  },
  {
   "cell_type": "code",
   "execution_count": null,
   "metadata": {},
   "outputs": [],
   "source": [
    "# Phase shifts for the required reactions\n",
    "NN_1S0_path = os.path.join('data', 'phaseshift-NN-1S0.csv')\n",
    "NN_1S0 = np.transpose(np.array(pd.read_csv(NN_1S0_path, delimiter= ',', header=None, engine='python')))\n",
    "\n",
    "NP_1S0_path = os.path.join('data', 'phaseshift-NP-1S0.csv')\n",
    "NP_1S0 = np.transpose(np.array(pd.read_csv(NP_1S0_path, delimiter= ',', header=None, engine='python')))\n",
    "\n",
    "NP_3P1_path = os.path.join('data', 'phaseshift-NP-3P1.csv')\n",
    "NP_3P1 = np.transpose(np.array(pd.read_csv(NP_3P1_path, delimiter= ',', header=None, engine='python')))\n",
    "\n",
    "# NN 1S0 phase\n",
    "E_N0 = NN_1S0[0] # (in GeV)\n",
    "P_N0 = NN_1S0[1] # (in Radians)\n",
    "\n",
    "func_N0 = scipy.interpolate.interp1d(E_N0, P_N0, kind='cubic', fill_value=0, bounds_error=False)\n",
    "\n",
    "# NP 1S0 phase\n",
    "E_P0 = NP_1S0[0] # (in GeV)\n",
    "P_P0 = NP_1S0[1] # (in Radians)\n",
    "\n",
    "func_P0 = scipy.interpolate.interp1d(E_P0, P_P0, kind='cubic', fill_value=0, bounds_error=False)\n",
    "\n",
    "# NP 3S1 phase\n",
    "E_P1 = NP_3P1[0] # (in GeV)\n",
    "P_P1 = NP_3P1[1] # (in Radians)\n",
    "\n",
    "func_P1 = scipy.interpolate.interp1d(E_P1, P_P1, kind='cubic', fill_value=0, bounds_error=False)"
   ]
  },
  {
   "cell_type": "code",
   "execution_count": null,
   "metadata": {},
   "outputs": [],
   "source": [
    "# Delta E vs r\n",
    "\n",
    "DeltaEvsr_path = os.path.join('data', 'DeltaEvsr.dat')\n",
    "DeltaEvsr = np.transpose(np.array(pd.read_csv(DeltaEvsr_path, delimiter= '\\t', header=None, engine='python')))\n",
    "\n",
    "r_DE = DeltaEvsr[0] * 1000 / (1.9733 * 10**(-16)) # (in GeV^-1)\n",
    "DeltaE = DeltaEvsr[1] * 10**(-3) # (in GeV)\n",
    "\n",
    "func_DeltaE = scipy.interpolate.interp1d(r_DE, DeltaE, kind='cubic', fill_value=0, bounds_error=False)"
   ]
  },
  {
   "cell_type": "code",
   "execution_count": null,
   "metadata": {},
   "outputs": [],
   "source": [
    "plt.plot(r_DE / (1000 / (1.9733 * 10**(-16))), func_DeltaE(r_DE))"
   ]
  },
  {
   "cell_type": "code",
   "execution_count": null,
   "metadata": {},
   "outputs": [],
   "source": [
    "\"\"\"\n",
    "Defining the functions that is going to give the total luminosity of the star\n",
    "\"\"\""
   ]
  },
  {
   "cell_type": "code",
   "execution_count": null,
   "metadata": {},
   "outputs": [],
   "source": [
    "g_n = 2\n",
    "g_p = 1\n",
    "f_n = 1\n",
    "f_p = 2\n",
    "\n",
    "\n",
    "def Energy_rate(r, epsilon):\n",
    "\n",
    "    \"\"\" Neutron mediated reaction \"\"\"\n",
    "    E_sigma_nn = 0\n",
    "    avg_sigma_nn = 0\n",
    "    n_n = len(allowed_p_com)\n",
    "    \n",
    "    for i in range(n_n):\n",
    "        # Energy at which the event is happening\n",
    "        energy_n_r = (allowed_p_com[i] * func_pf_n(r))**2 / (2 * mass_of_neutron)\n",
    "        # The corresponding phase shift\n",
    "        phase_n = np.sin(func_N0(energy_n_r))**2\n",
    "        # Cross section for that event\n",
    "        sigma_nn = (1/4) * 16 * np.pi * phase_n / (allowed_p_com[i] * func_pf_n(r))**2\n",
    "        # Kinetic energy of the outgoing n'\n",
    "        KEn_nd = (allowed_pf_nd[i] * func_pf_n(r)) ** 2 / (2 * mass_of_neutron)\n",
    "        # Just sigma for that event\n",
    "        avg_sigma_nn += sigma_nn / n_n\n",
    "        # E * sigma * v for that event\n",
    "        E_sigma_nn += (func_mun(r) - KEn_nd) * sigma_nn * (allowed_p_com[i] * func_pf_n(r)) / n_n\n",
    "\n",
    "\n",
    "    # number density as computed from fermi energy\n",
    "    numden_n = func_pf_n(r) ** 3 / (3 * np.pi**2)\n",
    "\n",
    "    # Contribution corresponding to the nn -> nn reaction\n",
    "    E_rate_n = f_n * numden_n * g_n * (epsilon/func_DeltaE(r))**2 * E_sigma_nn\n",
    "\n",
    "    \"\"\" Proton mediated reaction \"\"\"\n",
    "\n",
    "    E_sigma_np = 0\n",
    "    avg_sigma_np = 0\n",
    "    n_p = len(allowed_p_pcom)\n",
    "\n",
    "    for j in range(n_p):\n",
    "        # Naive Fermi energy at that radius\n",
    "        energy_p_r = (allowed_p_pcom[j] * func_pf_n(r))**2 / (2 * mass_of_neutron)\n",
    "\n",
    "        phase_p = np.sin(func_P0(energy_p_r))**2 + 3 * np.sin(func_P1(energy_p_r))**2\n",
    "\n",
    "        sigma_np = (1/4) * 16 * np.pi * phase_p / (allowed_p_pcom[j] * func_pf_n(r))**2  # normalization for multiplying with fermi momentum of neutron has already been done\n",
    "\n",
    "        KEp_nd = (allowed_pf_pnd[j] * func_pf_n(r)) ** 2 / (2 * mass_of_neutron)\n",
    "\n",
    "        avg_sigma_np += sigma_np / n_p\n",
    "\n",
    "        E_sigma_np += (func_mun(r) - KEp_nd) * sigma_np * (allowed_p_pcom[j] * func_pf_n(r)) /n_p\n",
    "\n",
    "    # number density of proton as computed from fermi energies\n",
    "    numden_p = func_pf_p(r)**3 / (3 * np.pi **2)\n",
    "\n",
    "    # Contribution corresponding to the np -> np reaction\n",
    "    E_rate_p = f_p * numden_p * g_p * (epsilon/func_DeltaE(r))**2 * E_sigma_np\n",
    "\n",
    "    E_rate = E_rate_n + E_rate_p\n",
    "\n",
    "    return avg_sigma_nn, avg_sigma_np, E_rate\n"
   ]
  },
  {
   "cell_type": "code",
   "execution_count": null,
   "metadata": {},
   "outputs": [],
   "source": [
    "R = np.linspace(0.05, 8.1, 100) * 1000 / (1.9733 * 10**(-16)) # (in GeV^-1)\n",
    "result = Energy_rate(R, 1)\n",
    "\n",
    "plt.plot(R / (1000 / (1.9733 * 10**(-16))),result[0])\n",
    "plt.plot(R/ (1000 / (1.9733 * 10**(-16))), result[1])\n",
    "plt.show()\n"
   ]
  },
  {
   "cell_type": "code",
   "execution_count": null,
   "metadata": {},
   "outputs": [],
   "source": [
    "\n",
    "import scipy.integrate\n",
    "\n",
    "def Total_luminosity(epsilon):\n",
    "\n",
    "    def integrand(r):\n",
    "        numden_n = func_pf_n(r) ** 3 / (3 * np.pi**2)\n",
    "        return 4 * np.pi * r**2 * numden_n * Energy_rate(r, epsilon)[2]\n",
    "    \n",
    "    # we will perform the integration in the interval 0 to 12.6 km but in GeV^-1 units\n",
    "    r_min = 0.04 * 1000 / (1.9733 * 10**(-16))\n",
    "    r_max = 8.1 * 1000 / (1.9733 * 10**(-16))\n",
    "\n",
    "    r = np.linspace(r_min, r_max,  2**5 + 1)\n",
    "\n",
    "    f_r = integrand(r)\n",
    "    \n",
    "    return  scipy.integrate.romb(f_r, dx = r[1] - r[0])"
   ]
  },
  {
   "cell_type": "code",
   "execution_count": null,
   "metadata": {},
   "outputs": [],
   "source": [
    "# Luminosity as computed from a 42000 Kelvin neutron star from 12.6 km\n",
    "def lum_NS(T_NS):\n",
    "    rate_neutron_star = 4 * np.pi * (8.1 * 10 ** 3) **2 * 5.67 * 10 ** (-8) * (T_NS) ** 4 * 6.242 * 10 ** 9 * 6.58 * 10 ** (-25) # In  GeV^2\n",
    "    return rate_neutron_star"
   ]
  },
  {
   "cell_type": "code",
   "execution_count": null,
   "metadata": {},
   "outputs": [],
   "source": [
    "epsilon = np.sqrt(lum_NS(30000) / Total_luminosity(1))*10**9"
   ]
  },
  {
   "cell_type": "code",
   "execution_count": null,
   "metadata": {},
   "outputs": [],
   "source": [
    "print(f\"Epsilon in eV = {epsilon}\")"
   ]
  }
 ],
 "metadata": {
  "kernelspec": {
   "display_name": "Python 3",
   "language": "python",
   "name": "python3"
  },
  "language_info": {
   "codemirror_mode": {
    "name": "ipython",
    "version": 3
   },
   "file_extension": ".py",
   "mimetype": "text/x-python",
   "name": "python",
   "nbconvert_exporter": "python",
   "pygments_lexer": "ipython3",
   "version": "3.10.4"
  }
 },
 "nbformat": 4,
 "nbformat_minor": 2
}

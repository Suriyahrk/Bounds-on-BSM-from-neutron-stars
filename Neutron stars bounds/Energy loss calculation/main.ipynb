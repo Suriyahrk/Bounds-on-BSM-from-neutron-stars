{
 "cells": [
  {
   "cell_type": "code",
   "execution_count": null,
   "metadata": {},
   "outputs": [],
   "source": [
    "import numpy as np\n",
    "import pandas as pd\n",
    "import matplotlib.pyplot as plt\n",
    "import scipy \n",
    "import seaborn as sns\n",
    "sns.set_style(\"darkgrid\")\n",
    "\n",
    "# Energy lost per unit time by the neutron star\n",
    "\n",
    "mL = 1.115 # mass if lambda baryon in GeV\n",
    "\n",
    "# Crossection as function of momentum\n",
    "def sigmav(p):\n",
    "    # Lets consider the unsuppressed operator O4 from pp-annihilation paper\n",
    "    sigv = (mL**2 + p**2) * np.sqrt(p**2 + mL**2) / (4 * np.pi * mL)\n",
    "    return sigv\n",
    "\n",
    "# Averaging cross-section over the Fermi Sea\n",
    "def avg_sigmav(n):\n",
    "    return scipy.integrate.quad(sigmav, 0, (3 * np.pi ** 2 * n) ** (1/3))[0] / (3 * np.pi ** 2 * n) ** (1/3) "
   ]
  },
  {
   "cell_type": "code",
   "execution_count": null,
   "metadata": {},
   "outputs": [],
   "source": [
    "# Interpolation of number density function\n",
    "\n",
    "raw_nd = np.transpose(np.array(pd.read_csv(\"nd(fm-3)_r(km).csv\", header=None)))\n",
    "\n",
    "r_nd, index_nd = np.unique(raw_nd[0], return_index=True)\n",
    "nd = raw_nd[1, index_nd]\n",
    "\n",
    "# Properly multiplying by the conversion factor so that everything is in GeV\n",
    "r_nd = (1 / 0.197) * 10 ** 18 * r_nd\n",
    "nd = 0.197 ** 3 * nd\n",
    "\n",
    "# Defining the interpolated function for the number density, and setting values outside the domain of interest to be zero\n",
    "numden = scipy.interpolate.interp1d(r_nd, nd, kind='quadratic', fill_value=0, bounds_error=False)"
   ]
  },
  {
   "cell_type": "code",
   "execution_count": null,
   "metadata": {},
   "outputs": [],
   "source": [
    "# Intepolating the Energy function\n",
    "\n",
    "raw_en = np.transpose(np.array(pd.read_csv(\"en(GeV)_r(km).csv\", header=None)))\n",
    "\n",
    "r_en, index_en = np.unique(raw_en[0], return_index=True)\n",
    "en = raw_en[1, index_en]\n",
    "\n",
    "# Properly multiplying by the conversion factor so that everything is in GeV\n",
    "r_en = (1 / 0.197) * 10 ** 18 * r_en\n",
    "\n",
    "# Defining the interpolated function for the energy, and setting values outside the domain of interest to be zero\n",
    "energy = scipy.interpolate.interp1d(r_en, en, kind='quadratic', fill_value=0, bounds_error=False)\n"
   ]
  },
  {
   "cell_type": "code",
   "execution_count": null,
   "metadata": {},
   "outputs": [],
   "source": [
    "# Computing the total energy lost per unit time in the entire neutron star\n",
    "\n",
    "r_max = max(r_nd)\n",
    "r_min = min(r_nd)\n",
    "def integrand(r):\n",
    "    return 4 * np.pi * r ** 2 * numden(r) ** 2 * energy(r) * avg_sigmav(numden(r))\n",
    "\n",
    "Rate= scipy.integrate.quad(integrand, r_min, r_max)[0]"
   ]
  },
  {
   "cell_type": "code",
   "execution_count": null,
   "metadata": {},
   "outputs": [],
   "source": [
    "def num_lambda(r):\n",
    "    return 4 *  np.pi * numden(r) * r ** 2\n",
    "\n",
    "Num_of_lambda = scipy.integrate.quadrature(num_lambda, r_min, r_max)\n",
    "\n",
    "print(f\"No of Hyperons in the neutron star : {Num_of_lambda[0]}\")"
   ]
  },
  {
   "cell_type": "code",
   "execution_count": null,
   "metadata": {},
   "outputs": [],
   "source": [
    "# Rate of energy lost by coldest neutron star\n",
    "rate_neutron_star = 4 * np.pi * (11 * 10 ** 3) **2 * 5.67 * 10 ** (-8) * (42000) ** 4 * 6.242 * 10 ** 9 * 6.58 * 10 ** (-25) # In  GeV^2\n",
    "\n",
    "# Defining Lambda \n",
    "Lambda =  (Rate / rate_neutron_star) ** (1/4)\n",
    "print(\"Lambda : {:.2e}\".format(Lambda))\n"
   ]
  },
  {
   "cell_type": "code",
   "execution_count": null,
   "metadata": {},
   "outputs": [],
   "source": []
  }
 ],
 "metadata": {
  "kernelspec": {
   "display_name": "Python 3",
   "language": "python",
   "name": "python3"
  },
  "language_info": {
   "codemirror_mode": {
    "name": "ipython",
    "version": 3
   },
   "file_extension": ".py",
   "mimetype": "text/x-python",
   "name": "python",
   "nbconvert_exporter": "python",
   "pygments_lexer": "ipython3",
   "version": "3.10.4"
  }
 },
 "nbformat": 4,
 "nbformat_minor": 2
}

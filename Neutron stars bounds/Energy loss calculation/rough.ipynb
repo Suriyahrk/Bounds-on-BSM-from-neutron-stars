{
 "cells": [
  {
   "cell_type": "code",
   "execution_count": null,
   "metadata": {},
   "outputs": [],
   "source": [
    "# Generate x values for evaluation\n",
    "x_values = np.linspace(min(r_nd), max(r_nd), 10000)\n",
    "\n",
    "# Evaluate the interpolation function at x_values\n",
    "y_values = numden(x_values)\n",
    "\n",
    "plt.plot(x_values, y_values, markersize = 0.01)\n",
    "# plt.plot(nd[0], np.log10(nd[1]), 'g')\n",
    "plt.show()"
   ]
  },
  {
   "cell_type": "code",
   "execution_count": null,
   "metadata": {},
   "outputs": [],
   "source": [
    "# Generate x values for evaluation\n",
    "x_values = np.linspace(min(r_nd), max(r_nd), 10000)\n",
    "\n",
    "# Evaluate the interpolation function at x_values\n",
    "y_values = numden(x_values)\n",
    "\n",
    "plt.plot(x_values,(3 * np.pi ** 2 * y_values) ** (1/3) / mL, markersize = 0.01)\n",
    "# plt.plot(nd[0], np.log10(nd[1]), 'g')\n",
    "plt.show()"
   ]
  }
 ],
 "metadata": {
  "language_info": {
   "name": "python"
  }
 },
 "nbformat": 4,
 "nbformat_minor": 2
}

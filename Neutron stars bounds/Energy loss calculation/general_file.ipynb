{
 "cells": [
  {
   "cell_type": "code",
   "execution_count": 14,
   "metadata": {},
   "outputs": [],
   "source": [
    "import numpy as np\n",
    "import pandas as pd\n",
    "import matplotlib.pyplot as plt\n",
    "import scipy \n",
    "import seaborn as sns\n",
    "sns.set_style(\"darkgrid\")\n",
    "\n",
    "from Generalized_function import *"
   ]
  },
  {
   "cell_type": "code",
   "execution_count": 15,
   "metadata": {},
   "outputs": [],
   "source": [
    "# Number density of neutrons\n",
    "\n",
    "# Interpolation of number density function\n",
    "\n",
    "raw_nd = np.transpose(np.array(pd.read_csv(\"n_num.csv\", header=None)))\n",
    "\n",
    "r_nd, index_nd = np.unique(raw_nd[0], return_index=True)\n",
    "nd = raw_nd[1, index_nd]\n",
    "\n",
    "# Properly multiplying by the conversion factor so that everything is in GeV\n",
    "r_nd = (1 / 0.197) * 10 ** 18 * r_nd\n",
    "nd = 0.197 ** 3 * nd\n",
    "\n",
    "# Defining the interpolated function for the number density, and setting values outside the domain of interest to be zero\n",
    "numden = scipy.interpolate.interp1d(r_nd, nd, kind='quadratic', fill_value=0, bounds_error=False)"
   ]
  },
  {
   "cell_type": "code",
   "execution_count": 16,
   "metadata": {},
   "outputs": [],
   "source": [
    "# Intepolating the Energy function\n",
    "\n",
    "raw_en = np.transpose(np.array(pd.read_csv(\"p_en.csv\", header=None)))\n",
    "\n",
    "r_en, index_en = np.unique(raw_en[0], return_index=True)\n",
    "en = raw_en[1, index_en]\n",
    "\n",
    "# Properly multiplying by the conversion factor so that everything is in GeV\n",
    "r_en = (1 / 0.197) * 10 ** 18 * r_en\n",
    "\n",
    "# Defining the interpolated function for the energy, and setting values outside the domain of interest to be zero\n",
    "energy = scipy.interpolate.interp1d(r_en, en, kind='quadratic', fill_value=0, bounds_error=False)"
   ]
  },
  {
   "cell_type": "code",
   "execution_count": 17,
   "metadata": {},
   "outputs": [],
   "source": [
    "r_min = min(r_nd)\n",
    "r_max = max(r_nd)"
   ]
  },
  {
   "cell_type": "code",
   "execution_count": 18,
   "metadata": {},
   "outputs": [
    {
     "name": "stderr",
     "output_type": "stream",
     "text": [
      "c:\\Users\\suriy\\OneDrive - Indian Institute of Science\\Desktop\\Project 2024\\Energy loss calculation\\Generalized_function.py:22: IntegrationWarning: The maximum number of subdivisions (50) has been achieved.\n",
      "  If increasing the limit yields no improvement it is advised to analyze \n",
      "  the integrand in order to determine the difficulties.  If the position of a \n",
      "  local difficulty can be determined (singularity, discontinuity) one will \n",
      "  probably gain from splitting up the interval and calling the integrator \n",
      "  on the subranges.  Perhaps a special-purpose integrator should be used.\n",
      "  Rate = scipy.integrate.quad(integrand, r_min, r_max)[0]\n",
      "c:\\Users\\suriy\\AppData\\Local\\Programs\\Python\\Python310\\lib\\site-packages\\scipy\\integrate\\_quadrature.py:370: AccuracyWarning: maxiter (50) exceeded. Latest difference = 1.915337e+53\n",
      "  warnings.warn(\n"
     ]
    },
    {
     "data": {
      "text/plain": [
       "(1.8983643444116862e+57, 754767451673.3091)"
      ]
     },
     "execution_count": 18,
     "metadata": {},
     "output_type": "execute_result"
    }
   ],
   "source": [
    "Lambda_BSM(1, r_min, r_max, numden, energy)"
   ]
  },
  {
   "cell_type": "code",
   "execution_count": 19,
   "metadata": {},
   "outputs": [
    {
     "name": "stdout",
     "output_type": "stream",
     "text": [
      "Lambda : 7.55e+11\n"
     ]
    }
   ],
   "source": [
    "print(\"Lambda : {:.2e}\".format(754767451673.3091))"
   ]
  },
  {
   "cell_type": "code",
   "execution_count": null,
   "metadata": {},
   "outputs": [],
   "source": []
  }
 ],
 "metadata": {
  "kernelspec": {
   "display_name": "Python 3",
   "language": "python",
   "name": "python3"
  },
  "language_info": {
   "codemirror_mode": {
    "name": "ipython",
    "version": 3
   },
   "file_extension": ".py",
   "mimetype": "text/x-python",
   "name": "python",
   "nbconvert_exporter": "python",
   "pygments_lexer": "ipython3",
   "version": "3.10.4"
  }
 },
 "nbformat": 4,
 "nbformat_minor": 2
}
